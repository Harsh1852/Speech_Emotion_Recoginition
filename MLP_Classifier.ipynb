{
 "cells": [
  {
   "cell_type": "raw",
   "id": "c368749e-ad37-46c7-8fde-6ddf9bca9c41",
   "metadata": {},
   "source": [
    "# %run DataLoading.ipynb\n",
    "# import pandas as pd\n",
    "# # Split the dataset\n",
    "# data = loadData(speeches=True, songs=True, tess=True, mfccs=False, chromas=True, mels=False)\n",
    "\n",
    "# # Divinding the loaded dataset into features and target \n",
    "# X = pd.DataFrame(data[\"X\"])\n",
    "# y = pd.DataFrame(data[\"y\"])\n",
    "\n",
    "# # Renaming the label column to emotion\n",
    "# y = y.rename(columns= {0: 'emotion'})"
   ]
  },
  {
   "cell_type": "code",
   "execution_count": null,
   "id": "5249159e-a139-46cd-bd14-3c3b3a2c56d2",
   "metadata": {},
   "outputs": [],
   "source": [
    "import time\n",
    "\n",
    "from sklearn.model_selection import train_test_split\n",
    "\n",
    "from sklearn.pipeline import Pipeline\n",
    "from sklearn.preprocessing import StandardScaler\n",
    "from sklearn.neural_network import MLPClassifier\n",
    "\n",
    "from sklearn.metrics import classification_report\n",
    "from sklearn.metrics import confusion_matrix"
   ]
  },
  {
   "cell_type": "code",
   "execution_count": 62,
   "id": "41882b8d-2682-4ba0-8bdb-57e5f76f6a50",
   "metadata": {},
   "outputs": [],
   "source": [
    "def mlp(X_train,y_train):\n",
    "    # # Splitting the data into training and testing (80:20)\n",
    "    # X_train, X_test, y_train, y_test = train_test_split(X, y, test_size=0.20, random_state=11)\n",
    "    \n",
    "    # Creating steps for a pipeline to perform normalization and classification in one go\n",
    "    steps = [('scaler', StandardScaler()),\n",
    "             ('MLP', MLPClassifier(alpha=0.01, batch_size=300, epsilon=1e-08, hidden_layer_sizes=(300), learning_rate='adaptive', max_iter=500))]\n",
    "    \n",
    "    # Initializing the pipeline with the steps created earlier\n",
    "    pipelineMLP = Pipeline(steps)\n",
    "    \n",
    "    # Fitting the pipeline to the training dataset and noting the time taken to fit the model\n",
    "    # starting_time = time.time()\n",
    "    mlp_scaled = pipelineMLP.fit(X_train, y_train)\n",
    "    # trainingTimeSVM = str(time.time() - starting_time)\n",
    "    \n",
    "    # # Predicting and evaluating the model\n",
    "    # y_pred = mlp_scaled.predict(X_test)\n",
    "    \n",
    "    # print('Accuracy with Scaling: {}'.format(mlp_scaled.score(X_test, y_test)))\n",
    "    # print(\"Classification Report:\\n\", classification_report(y_test, y_pred))\n",
    "    # print(\"Confusion Matrix:\\n\", confusion_matrix(y_test, y_pred))\n",
    "    \n",
    "    return mlp_scaled"
   ]
  },
  {
   "cell_type": "raw",
   "id": "5bccd527-0ede-42bd-9e39-42cd7da88efd",
   "metadata": {},
   "source": [
    "mlp(X,y)"
   ]
  },
  {
   "cell_type": "raw",
   "id": "f5e94bf5-cdf8-45cf-bbf1-732a967b5376",
   "metadata": {},
   "source": [
    "Accuracies:\n",
    "\n",
    "With only mfcc\n",
    "Accuracy with Scaling: 0.8174603174603174\n",
    "\n",
    "With only chroma\n",
    "Accuracy with Scaling: 0.3941798941798942\n",
    "\n",
    "With only mel\n",
    "Accuracy with Scaling: 0.5264550264550265\n",
    "\n",
    "With all three\n",
    "Accuracy with Scaling: 0.7883597883597884\n",
    "\n",
    "With mfcc and chroma\n",
    "Accuracy with Scaling: 0.8042328042328042\n",
    "\n",
    "With mfcc and mel\n",
    "Accuracy with Scaling: 0.8095238095238095\n",
    "\n",
    "With chroma and mel\n",
    "Accuracy with Scaling: 0.5714285714285714"
   ]
  }
 ],
 "metadata": {
  "kernelspec": {
   "display_name": "smlenv",
   "language": "python",
   "name": "smlenv"
  },
  "language_info": {
   "codemirror_mode": {
    "name": "ipython",
    "version": 3
   },
   "file_extension": ".py",
   "mimetype": "text/x-python",
   "name": "python",
   "nbconvert_exporter": "python",
   "pygments_lexer": "ipython3",
   "version": "3.12.7"
  }
 },
 "nbformat": 4,
 "nbformat_minor": 5
}
