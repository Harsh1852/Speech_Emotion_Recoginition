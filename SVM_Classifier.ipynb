{
 "cells": [
  {
   "cell_type": "raw",
   "id": "55ea4824-c188-4c7a-bfaa-b06c498edfbd",
   "metadata": {},
   "source": [
    "# %run DataLoading.ipynb\n",
    "# import pandas as pd\n",
    "# # Split the dataset\n",
    "# data = loadData(speeches=True, songs=True, tess=True, mfccs=False, chromas=True, mels=False)\n",
    "\n",
    "# # Divinding the loaded dataset into features and target \n",
    "# X = pd.DataFrame(data[\"X\"])\n",
    "# y = pd.DataFrame(data[\"y\"])\n",
    "\n",
    "# # Renaming the label column to emotion\n",
    "# y = y.rename(columns= {0: 'emotion'})"
   ]
  },
  {
   "cell_type": "code",
   "execution_count": null,
   "id": "1b8024ab-7d9d-431b-baef-42e8c82be8e4",
   "metadata": {},
   "outputs": [],
   "source": [
    "import time\n",
    "\n",
    "from sklearn.model_selection import train_test_split\n",
    "\n",
    "from sklearn.pipeline import Pipeline\n",
    "from sklearn.preprocessing import StandardScaler\n",
    "from sklearn.svm import SVC\n",
    "\n",
    "from sklearn.metrics import classification_report\n",
    "from sklearn.metrics import confusion_matrix"
   ]
  },
  {
   "cell_type": "code",
   "execution_count": 6,
   "id": "e3cc8c87-a5e2-4992-bf35-bd2d684695e5",
   "metadata": {},
   "outputs": [],
   "source": [
    "def svm(X_train,y_train):\n",
    "    # # Splitting the data into training and testing (80:20)\n",
    "    # X_train, X_test, y_train, y_test = train_test_split(X, y, test_size=0.20, random_state=11)\n",
    "    \n",
    "    # Creating steps for a pipeline to perform normalization and classification in one go\n",
    "    steps = [('scaler', StandardScaler()),\n",
    "             ('SVM', SVC())]\n",
    "    \n",
    "    # Initializing the pipeline with the steps created earlier\n",
    "    pipelineSVM = Pipeline(steps)\n",
    "    \n",
    "    # # Fitting the pipeline to the training dataset and noting the time taken to fit the model\n",
    "    # starting_time = time.time()\n",
    "    svc_scaled = pipelineSVM.fit(X_train, y_train)\n",
    "    # trainingTimeSVM = str(time.time() - starting_time)\n",
    "    \n",
    "    # # Predicting and evaluating the model\n",
    "    # y_pred = svc_scaled.predict(X_test)\n",
    "      \n",
    "    # print('Accuracy with Scaling: {}'.format(svc_scaled.score(X_test, y_test)))\n",
    "    # print(\"Classification Report:\\n\", classification_report(y_test, y_pred))\n",
    "    # print(\"Confusion Matrix:\\n\", confusion_matrix(y_test, y_pred))\n",
    "    \n",
    "    return svc_scaled"
   ]
  },
  {
   "cell_type": "raw",
   "id": "de08c16c-a453-4c3f-a86f-fe2df1c2e027",
   "metadata": {},
   "source": [
    "svm(X,y)"
   ]
  },
  {
   "cell_type": "raw",
   "id": "75e1738a-c958-4de1-85e9-032f808c1890",
   "metadata": {},
   "source": [
    "Accuracies:\n",
    "\n",
    "With only mfcc\n",
    "Accuracy with Scaling: 0.7936507936507936\n",
    "\n",
    "With only chroma\n",
    "Accuracy with Scaling: 0.36772486772486773\n",
    "\n",
    "With only mel\n",
    "Accuracy with Scaling: 0.42063492063492064\n",
    "\n",
    "With all three \n",
    "Accuracy with Scaling: 0.6481481481481481\n",
    "\n",
    "With mfcc and chroma\n",
    "Accuracy with Scaling: 0.7645502645502645\n",
    "\n",
    "With  mfcc and mel\n",
    "Accuracy with Scaling: 0.6402116402116402\n",
    "\n",
    "With chroma and mel\n",
    "Accuracy with Scaling: 0.5"
   ]
  }
 ],
 "metadata": {
  "kernelspec": {
   "display_name": "smlenv",
   "language": "python",
   "name": "smlenv"
  },
  "language_info": {
   "codemirror_mode": {
    "name": "ipython",
    "version": 3
   },
   "file_extension": ".py",
   "mimetype": "text/x-python",
   "name": "python",
   "nbconvert_exporter": "python",
   "pygments_lexer": "ipython3",
   "version": "3.12.7"
  }
 },
 "nbformat": 4,
 "nbformat_minor": 5
}
