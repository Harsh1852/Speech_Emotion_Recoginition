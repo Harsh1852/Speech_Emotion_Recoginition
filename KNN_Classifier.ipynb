{
 "cells": [
  {
   "cell_type": "code",
   "execution_count": null,
   "id": "29c7aa98-73e1-4521-9b65-60d185a91106",
   "metadata": {},
   "outputs": [],
   "source": [
    "# %run DataLoading.ipynb\n",
    "# import pandas as pd\n",
    "# # Split the dataset\n",
    "# data = loadData(speeches=True, songs=True, tess=True, mfccs=False, chromas=True, mels=False)\n",
    "\n",
    "# # Divinding the loaded dataset into features and target \n",
    "# X = pd.DataFrame(data[\"X\"])\n",
    "# y = pd.DataFrame(data[\"y\"])\n",
    "\n",
    "# # Renaming the label column to emotion\n",
    "# y = y.rename(columns= {0: 'emotion'})"
   ]
  },
  {
   "cell_type": "code",
   "execution_count": null,
   "id": "e7f3db5e-c211-4995-9438-9ccf85079453",
   "metadata": {},
   "outputs": [],
   "source": [
    "import time\n",
    "\n",
    "from sklearn.model_selection import train_test_split\n",
    "\n",
    "from sklearn.pipeline import Pipeline\n",
    "from sklearn.preprocessing import StandardScaler\n",
    "from sklearn.neighbors import KNeighborsClassifier\n",
    "\n",
    "from sklearn.metrics import classification_report\n",
    "from sklearn.metrics import confusion_matrix"
   ]
  },
  {
   "cell_type": "code",
   "execution_count": 4,
   "id": "7b8b61ac",
   "metadata": {},
   "outputs": [],
   "source": [
    "def knn(X_train,y_train):\n",
    "    # # Splitting the data into training and testing (80:20)\n",
    "    # X_train, X_test, y_train, y_test = train_test_split(X, y, test_size=0.20, random_state=11)\n",
    "    \n",
    "    # Creating steps for a pipeline to perform normalization and classification in one go\n",
    "    steps = [('scaler', StandardScaler()),\n",
    "             ('knn', KNeighborsClassifier(n_neighbors=3))]\n",
    "    \n",
    "    # Initializing the pipeline with the steps created earlier\n",
    "    pipelineKNN = Pipeline(steps)\n",
    "    \n",
    "    # # Fitting the pipeline to the training dataset and noting the time taken to fit the model\n",
    "    # starting_time = time.time()\n",
    "    knn_scaled = pipelineKNN.fit(X_train, y_train)\n",
    "    # trainingTimeKNN = str(time.time() - starting_time)\n",
    "    \n",
    "    # # Predicting and evaluating the model\n",
    "    # y_pred = knn_scaled.predict(X_test)\n",
    "    \n",
    "    # print('Accuracy with Scaling: {}'.format(knn_scaled.score(X_test, y_test)))\n",
    "    # print(\"Classification Report:\\n\", classification_report(y_test, y_pred))\n",
    "    # print(\"Confusion Matrix:\\n\", confusion_matrix(y_test, y_pred))\n",
    "    \n",
    "    return knn_scaled"
   ]
  },
  {
   "cell_type": "raw",
   "id": "74b71985-c25e-4b75-8921-e83bf1c0fa48",
   "metadata": {},
   "source": [
    "# knn_clf = knn(X,y)"
   ]
  },
  {
   "cell_type": "raw",
   "id": "31774023-277c-4ae8-b3bf-f537f55987ed",
   "metadata": {},
   "source": [
    "Accuracies:\n",
    "\n",
    "With only mfcc\n",
    "Accuracy with Scaling: 0.708994708994709\n",
    "\n",
    "With only chroma\n",
    "Accuracy with Scaling: 0.335978835978836\n",
    "\n",
    "With only mel\n",
    "Accuracy with Scaling: 0.4523809523809524\n",
    "\n",
    "With all three\n",
    "Accuracy with Scaling: 0.6481481481481481\n",
    "\n",
    "With mfcc and chroma\n",
    "Accuracy with Scaling: 0.6640211640211641\n",
    "\n",
    "With mfcc and mel\n",
    "Accuracy with Scaling: 0.6402116402116402\n",
    "\n",
    "With chroma and mel\n",
    "Accuracy with Scaling: 0.46825396825396826"
   ]
  }
 ],
 "metadata": {
  "kernelspec": {
   "display_name": "smlenv",
   "language": "python",
   "name": "smlenv"
  },
  "language_info": {
   "codemirror_mode": {
    "name": "ipython",
    "version": 3
   },
   "file_extension": ".py",
   "mimetype": "text/x-python",
   "name": "python",
   "nbconvert_exporter": "python",
   "pygments_lexer": "ipython3",
   "version": "3.12.7"
  }
 },
 "nbformat": 4,
 "nbformat_minor": 5
}
